{
 "cells": [
  {
   "cell_type": "markdown",
   "metadata": {},
   "source": [
    "# Working with Radio Sounding Data\n",
    "This is a short tutorial how to work with sounding data using [MetPy](https://unidata.github.io/MetPy/latest/index.html#)."
   ]
  },
  {
   "cell_type": "code",
   "execution_count": null,
   "metadata": {},
   "outputs": [],
   "source": [
    "# first some packages and functions are imported\n",
    "import pandas as pd\n",
    "import csv\n",
    "import numpy as np\n",
    "import datetime\n",
    "from urllib.request import Request, urlopen\n",
    "# functions for downloading the data\n",
    "from soundings import (create_url, from_day_time, check_todays_sounding, \n",
    "                       write_csvfile, download_sounding, create_dataframe)"
   ]
  },
  {
   "cell_type": "markdown",
   "metadata": {},
   "source": [
    "## Downloading the current sounding data\n",
    "The data is provided on this [website](http://weather.uwyo.edu/upperair/sounding.html). For this step MetPy is not necessary."
   ]
  },
  {
   "cell_type": "code",
   "execution_count": null,
   "metadata": {
    "scrolled": true
   },
   "outputs": [],
   "source": [
    "# This functions downloads the data of the last sounding and creates a pandas dataframe:\n",
    "df = download_sounding()\n",
    "df"
   ]
  },
  {
   "cell_type": "markdown",
   "metadata": {},
   "source": [
    "The names of the columns stand for:\n",
    "\n",
    "- pres: - Pressure in hPa\n",
    "- hght: - Geopotential Height in m\n",
    "- temp: - Temperature in °C\n",
    "- dwpt: - Dewpoint Temperature in °C\n",
    "- relh: - Relative Humidity in %\n",
    "- mixr: - Mixing Ratio in gram/kilogram\n",
    "- drct: - Wind Direction in degrees true\n",
    "- speed: - Wind Speed in knot\n",
    "- thta: - Potential Temperature in K\n",
    "- thte: - Equivalent Potential Temperature in K\n",
    "- thtv: - Virtual Potential Temperature in K\n"
   ]
  },
  {
   "cell_type": "markdown",
   "metadata": {},
   "source": [
    "If MetPy is not yet installed on your PC: you can download it like it is described here: https://unidata.github.io/MetPy/latest/installguide.html"
   ]
  },
  {
   "cell_type": "code",
   "execution_count": null,
   "metadata": {},
   "outputs": [],
   "source": [
    "# for using MetPy we need a few more packages and functions\n",
    "import matplotlib.pyplot as plt\n",
    "from mpl_toolkits.axes_grid1.inset_locator import inset_axes\n",
    "\n",
    "import metpy.calc as mpcalc\n",
    "from metpy.cbook import get_test_data\n",
    "from metpy.plots import Hodograph, SkewT\n",
    "from metpy.units import units"
   ]
  },
  {
   "cell_type": "markdown",
   "metadata": {},
   "source": [
    "MetPy gives us the opportunity to assign units to physical quantities. This is mandatory for using some of its functions. The corresponding package is called 'units'. There has to be paid attention when using it for temperature, see [here](https://pint.readthedocs.io/en/latest/nonmult.html)."
   ]
  },
  {
   "cell_type": "code",
   "execution_count": null,
   "metadata": {},
   "outputs": [],
   "source": [
    "# assigning the appropriate units to the physical quantities\n",
    "p = df['pres'].values * units.hPa\n",
    "h = df['hght'].values * units.meters\n",
    "t = df['temp'].values * units.celsius\n",
    "dt = df['dwpt'].values * units.celsius\n",
    "rh = df['relh'].values * units.percent\n",
    "mr = df['mixr'].values * units.gram / units.kilogram\n",
    "dr = df['drct'].values * units.degree\n",
    "ws = df['speed'].values * units.knot\n",
    "thta = df['thta'].values * units.kelvin\n",
    "thte = df['thte'].values * units.kelvin\n",
    "thtv = df['thtv'].values * units.kelvin"
   ]
  },
  {
   "cell_type": "code",
   "execution_count": null,
   "metadata": {},
   "outputs": [],
   "source": [
    "# calculation of the windspeed in x- and y-direction with the implemented functions\n",
    "df['u_wind'], df['v_wind'] = mpcalc.wind_components(df['speed'],\n",
    "                                                    np.deg2rad(df['drct']))\n",
    "wind_speed = df['speed'].values * units.knots\n",
    "wind_dir = df['drct'].values * units.degrees\n",
    "u, v = mpcalc.wind_components(wind_speed, wind_dir)"
   ]
  },
  {
   "cell_type": "markdown",
   "metadata": {},
   "source": [
    "## Calculations with MetPy\n",
    "\n",
    "[Here](https://unidata.github.io/MetPy/latest/api/generated/metpy.calc.html) you can find the supported calculations one can do with MetPy. In the following we have a look at a few of them.\n",
    "(The examples are mostly taken from the [MetPy-Tutorial](https://unidata.github.io/MetPy/latest/tutorials/upperair_soundings.html#sphx-glr-tutorials-upperair-soundings-py).)"
   ]
  },
  {
   "cell_type": "markdown",
   "metadata": {},
   "source": [
    "### Basic Skew-T Plotting"
   ]
  },
  {
   "cell_type": "code",
   "execution_count": null,
   "metadata": {},
   "outputs": [],
   "source": [
    "# Create a new figure. The dimensions here give a good aspect ratio\n",
    "fig = plt.figure(figsize=(9, 18))\n",
    "skew = SkewT(fig)\n",
    "\n",
    "# Plot the data using normal plotting functions, in this case using\n",
    "# log scaling in Y, as dictated by the typical meteorological plot\n",
    "skew.plot(p, t, 'r', linewidth=2)\n",
    "skew.plot(p, dt, 'g', linewidth=2)\n",
    "skew.plot_barbs(p, u, v)\n",
    "\n",
    "# Show the plot\n",
    "plt.show()\n",
    "# The plot will be saved in your current folder as skewplot.pdf.\n",
    "fig.savefig('skewplot.pdf');"
   ]
  },
  {
   "cell_type": "markdown",
   "metadata": {},
   "source": [
    "### LCL (lifted condensation level) and parcel profile\n",
    "[Documentation of lcl](https://unidata.github.io/MetPy/latest/api/generated/metpy.calc.lcl.html#metpy.calc.lcl)\n",
    "\n",
    "[Documentation of parcel profile](https://unidata.github.io/MetPy/latest/api/generated/metpy.calc.parcel_profile.html#metpy.calc.parcel_profile)"
   ]
  },
  {
   "cell_type": "code",
   "execution_count": null,
   "metadata": {},
   "outputs": [],
   "source": [
    "# Calculate the LCL\n",
    "# use first entry in pressure, temperature and dewpoint temperature\n",
    "lcl_pressure, lcl_temperature = mpcalc.lcl(p[0], t[0], dt[0])\n",
    "\n",
    "print(lcl_pressure, lcl_temperature)\n",
    "\n",
    "# Calculate the parcel profile.\n",
    "parcel_prof = mpcalc.parcel_profile(p, t[0], dt[0]).to('degC')"
   ]
  },
  {
   "cell_type": "markdown",
   "metadata": {},
   "source": [
    "### Advanced Skew-T Plotting with an added Hodograph"
   ]
  },
  {
   "cell_type": "code",
   "execution_count": null,
   "metadata": {},
   "outputs": [],
   "source": [
    "# Create a new figure. The dimensions here give a good aspect ratio\n",
    "fig = plt.figure(figsize=(14, 14))\n",
    "skew = SkewT(fig, rotation=30)\n",
    "\n",
    "# Plot the data using normal plotting functions, in this case using\n",
    "# log scaling in Y, as dictated by the typical meteorological plot\n",
    "skew.plot(p, t, 'r')\n",
    "skew.plot(p, dt, 'g')\n",
    "skew.plot_barbs(p, u, v)\n",
    "skew.ax.set_ylim(1000, 100)\n",
    "skew.ax.set_xlim(-40, 60)\n",
    "\n",
    "# Plot LCL temperature as black dot\n",
    "skew.plot(lcl_pressure, lcl_temperature, 'ko', markerfacecolor='black')\n",
    "\n",
    "# Plot the parcel profile as a black line\n",
    "skew.plot(p, parcel_prof, 'k', linewidth=2)\n",
    "\n",
    "# Shade areas of CAPE and CIN\n",
    "skew.shade_cin(p, t, parcel_prof)\n",
    "skew.shade_cape(p, t, parcel_prof)\n",
    "\n",
    "# Plot a zero degree isotherm\n",
    "skew.ax.axvline(0, color='c', linestyle='--', linewidth=2)\n",
    "\n",
    "# Add the relevant special lines\n",
    "skew.plot_dry_adiabats()\n",
    "skew.plot_moist_adiabats()\n",
    "skew.plot_mixing_lines()\n",
    "\n",
    "# Create a hodograph\n",
    "# Create an inset axes object that is 40% width and height of the\n",
    "# figure and put it in the upper right hand corner.\n",
    "ax_hod = inset_axes(skew.ax, '40%', '40%', loc=1)\n",
    "h = Hodograph(ax_hod, component_range=80.)\n",
    "h.add_grid(increment=20)\n",
    "h.plot_colormapped(u, v, wind_speed)  # Plot a line colored by wind speed\n",
    "\n",
    "# Show the plot\n",
    "plt.show()\n",
    "fig.savefig('skewplot_hodograph.pdf');"
   ]
  },
  {
   "cell_type": "markdown",
   "metadata": {},
   "source": [
    "### Lapse-Rate"
   ]
  },
  {
   "cell_type": "markdown",
   "metadata": {},
   "source": [
    "[Documentation of dry lapse rate](https://unidata.github.io/MetPy/latest/api/generated/metpy.calc.dry_lapse.html#metpy.calc.dry_lapse)"
   ]
  },
  {
   "cell_type": "code",
   "execution_count": null,
   "metadata": {},
   "outputs": [],
   "source": [
    "lr_d = mpcalc.dry_lapse(p,t[0])"
   ]
  },
  {
   "cell_type": "code",
   "execution_count": null,
   "metadata": {},
   "outputs": [],
   "source": [
    "plt.plot(lr_d.to('degC'));"
   ]
  }
 ],
 "metadata": {
  "hide_input": false,
  "kernelspec": {
   "display_name": "Python 3",
   "language": "python",
   "name": "python3"
  },
  "language_info": {
   "codemirror_mode": {
    "name": "ipython",
    "version": 3
   },
   "file_extension": ".py",
   "mimetype": "text/x-python",
   "name": "python",
   "nbconvert_exporter": "python",
   "pygments_lexer": "ipython3",
   "version": "3.5.2"
  },
  "toc": {
   "base_numbering": 1,
   "nav_menu": {},
   "number_sections": false,
   "sideBar": true,
   "skip_h1_title": true,
   "title_cell": "Table of Contents",
   "title_sidebar": "Contents",
   "toc_cell": false,
   "toc_position": {},
   "toc_section_display": true,
   "toc_window_display": false
  }
 },
 "nbformat": 4,
 "nbformat_minor": 2
}
